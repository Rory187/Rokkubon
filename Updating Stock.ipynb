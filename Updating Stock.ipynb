{
 "cells": [
  {
   "cell_type": "code",
   "execution_count": 83,
   "id": "46942b4e",
   "metadata": {},
   "outputs": [],
   "source": [
    "import pandas as pd\n",
    "import math\n",
    "from datetime import date\n",
    "\n",
    "vendors = pd.read_csv('vendors.csv')\n",
    "stock = pd.read_csv('stockdf.csv')\n",
    "ingredients = pd.read_csv('ingre.csv')\n",
    "menu = pd.read_csv('menudf.csv')\n",
    "inventory_orders = pd.DataFrame(columns=['inventory_order_id',\n",
    "                                         'vendor_id',\n",
    "                                         'ingredient_id',\n",
    "                                         'order_date',\n",
    "                                         'quantity'])\n",
    "\n",
    "\n",
    "menu.drop(columns=menu.columns[0], axis=1, inplace=True)\n",
    "stock.drop(columns=stock.columns[0], axis=1, inplace=True)\n",
    "\n",
    "initial_stock = [10000] * len(stock)"
   ]
  },
  {
   "cell_type": "code",
   "execution_count": 84,
   "id": "4fdd3dc8",
   "metadata": {},
   "outputs": [],
   "source": [
    "for i in range(0, len(initial_stock)):\n",
    "    ingredient = list(stock['Ingredient'])[i]\n",
    "    quantity = list(stock['Quantity'])[i]\n",
    "    if quantity < 0.5 * initial_stock[i]:\n",
    "        stock_needed = initial_stock[i] - quantity\n",
    "        try:\n",
    "            item_index = list(ingredients['Item']).index(ingredient)\n",
    "            units_needed = math.ceil(stock_needed / (float(list(ingredients['Weight'])[item_index])*1000))\n",
    "        except:\n",
    "            units_needed = math.ceil(stock_needed / (float(list(ingredients['Weight'])[item_index].split()[0])))\n",
    "        inventory_orders.loc[len(inventory_orders)] = [len(inventory_orders)+1,\n",
    "                                                       int(list(ingredients['Vendor_id'])[list(ingredients['Item']).index(ingredient)]),\n",
    "                                                       int(list(ingredients['Ingredient_id'])[list(ingredients['Item']).index(ingredient)]),\n",
    "                                                       date.today(),\n",
    "                                                       units_needed]\n",
    "        try:\n",
    "            stock.loc[stock[stock['Ingredient'] == ingredient].index,['Quantity']] = stock.loc[stock[stock['Ingredient'] == ingredient].index,['Quantity']] + units_needed * float(list(ingredients[ingredients['Item'] == ingredient]['Weight'])[0]) * 1000\n",
    "        except:\n",
    "            stock.loc[stock[stock['Ingredient'] == ingredient].index,['Quantity']] = stock.loc[stock[stock['Ingredient'] == ingredient].index,['Quantity']] + units_needed * float((list(ingredients[ingredients['Item'] == ingredient]['Weight'])[0]).split()[0])\n"
   ]
  }
 ],
 "metadata": {
  "kernelspec": {
   "display_name": "Python 3 (ipykernel)",
   "language": "python",
   "name": "python3"
  },
  "language_info": {
   "codemirror_mode": {
    "name": "ipython",
    "version": 3
   },
   "file_extension": ".py",
   "mimetype": "text/x-python",
   "name": "python",
   "nbconvert_exporter": "python",
   "pygments_lexer": "ipython3",
   "version": "3.10.9"
  }
 },
 "nbformat": 4,
 "nbformat_minor": 5
}
